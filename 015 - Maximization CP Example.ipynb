{
 "cells": [
  {
   "cell_type": "code",
   "execution_count": 11,
   "metadata": {},
   "outputs": [],
   "source": [
    "# import modules\n",
    "from ortools.linear_solver import pywraplp\n",
    "\n",
    "# create solver\n",
    "solver = pywraplp.Solver.CreateSolver('GLOP')"
   ]
  },
  {
   "cell_type": "code",
   "execution_count": 12,
   "metadata": {},
   "outputs": [],
   "source": [
    "# Create your variables\n",
    "a = solver.NumVar(0, solver.infinity(), 'a')\n",
    "b = solver.NumVar(0, solver.infinity(), 'b')"
   ]
  },
  {
   "cell_type": "code",
   "execution_count": 13,
   "metadata": {},
   "outputs": [
    {
     "name": "stdout",
     "output_type": "stream",
     "text": [
      "Constraints = 3\n"
     ]
    }
   ],
   "source": [
    "# Create your constraints\n",
    "solver.Add(0.4*a + 1.2*b >= 70)\n",
    "solver.Add(6*a + 10*b >= 50)\n",
    "solver.Add(0.4*a + 0.6*b >= 12)\n",
    "print('Constraints =', solver.NumConstraints())"
   ]
  },
  {
   "cell_type": "code",
   "execution_count": 14,
   "metadata": {},
   "outputs": [],
   "source": [
    "# invoke the Maximize function passing in the cost function\n",
    "solver.Minimize(8*a + 10*b)"
   ]
  },
  {
   "cell_type": "code",
   "execution_count": 15,
   "metadata": {},
   "outputs": [
    {
     "data": {
      "text/plain": [
       "0"
      ]
     },
     "execution_count": 15,
     "metadata": {},
     "output_type": "execute_result"
    }
   ],
   "source": [
    "solver.Solve()"
   ]
  },
  {
   "cell_type": "code",
   "execution_count": 16,
   "metadata": {},
   "outputs": [
    {
     "name": "stdout",
     "output_type": "stream",
     "text": [
      "Objective value = 583.3333333333333\n",
      "A =  0.0\n",
      "B =  58.33333333333333\n"
     ]
    }
   ],
   "source": [
    "# print out the values\n",
    "print('Objective value =', solver.Objective().Value())\n",
    "print('A = ', a.solution_value())\n",
    "print('B = ', b.solution_value())"
   ]
  },
  {
   "cell_type": "code",
   "execution_count": null,
   "metadata": {},
   "outputs": [],
   "source": []
  }
 ],
 "metadata": {
  "kernelspec": {
   "display_name": "Python 3",
   "language": "python",
   "name": "python3"
  },
  "language_info": {
   "codemirror_mode": {
    "name": "ipython",
    "version": 3
   },
   "file_extension": ".py",
   "mimetype": "text/x-python",
   "name": "python",
   "nbconvert_exporter": "python",
   "pygments_lexer": "ipython3",
   "version": "3.7.6"
  }
 },
 "nbformat": 4,
 "nbformat_minor": 4
}
