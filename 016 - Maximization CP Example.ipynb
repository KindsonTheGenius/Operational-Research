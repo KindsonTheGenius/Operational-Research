{
 "cells": [
  {
   "cell_type": "code",
   "execution_count": 31,
   "metadata": {},
   "outputs": [],
   "source": [
    " # Declare the Model\n",
    "from ortools.sat.python import cp_model\n",
    "model = cp_model.CpModel()"
   ]
  },
  {
   "cell_type": "code",
   "execution_count": 32,
   "metadata": {},
   "outputs": [],
   "source": [
    "# Define the variables\n",
    "num_vars = 3\n",
    "x = model.NewIntVar(0, 50, 'x')\n",
    "y = model.NewIntVar(0, 50, 'y')\n",
    "z = model.NewIntVar(0, 50, 'z')"
   ]
  },
  {
   "cell_type": "code",
   "execution_count": 33,
   "metadata": {},
   "outputs": [
    {
     "data": {
      "text/plain": [
       "<ortools.sat.python.cp_model.Constraint at 0x7fd1c80cb610>"
      ]
     },
     "execution_count": 33,
     "metadata": {},
     "output_type": "execute_result"
    }
   ],
   "source": [
    "# Set up the constraints\n",
    "model.Add(2*x + 7*y + 3*z <= 50)\n",
    "model.Add(3*x - 5*y + 7*z <= 45)\n",
    "model.Add(5*x + 2*y - 6*z <= 37)"
   ]
  },
  {
   "cell_type": "code",
   "execution_count": 34,
   "metadata": {},
   "outputs": [],
   "source": [
    "# Define the objective function 2x + 2y + 3z\n",
    "model.Maximize(2*x + 2*y + 3*z)"
   ]
  },
  {
   "cell_type": "code",
   "execution_count": 35,
   "metadata": {},
   "outputs": [],
   "source": [
    "# Invoke the solver\n",
    "solver = cp_model.CpSolver()\n",
    "status = solver.Solve(model)"
   ]
  },
  {
   "cell_type": "code",
   "execution_count": 37,
   "metadata": {},
   "outputs": [
    {
     "name": "stdout",
     "output_type": "stream",
     "text": [
      "Value of objective function: 35\n",
      "x = 7\n",
      "y = 3\n",
      "z = 5\n"
     ]
    }
   ],
   "source": [
    "# Display the results\n",
    "if status == cp_model.OPTIMAL:\n",
    "    print('Value of objective function: %i' % solver.ObjectiveValue())\n",
    "    print('x = %i' %solver.Value(x))\n",
    "    print('y = %i' %solver.Value(y))\n",
    "    print('z = %i' %solver.Value(z))"
   ]
  },
  {
   "cell_type": "code",
   "execution_count": null,
   "metadata": {},
   "outputs": [],
   "source": []
  }
 ],
 "metadata": {
  "kernelspec": {
   "display_name": "Python 3",
   "language": "python",
   "name": "python3"
  },
  "language_info": {
   "codemirror_mode": {
    "name": "ipython",
    "version": 3
   },
   "file_extension": ".py",
   "mimetype": "text/x-python",
   "name": "python",
   "nbconvert_exporter": "python",
   "pygments_lexer": "ipython3",
   "version": "3.7.6"
  }
 },
 "nbformat": 4,
 "nbformat_minor": 4
}
