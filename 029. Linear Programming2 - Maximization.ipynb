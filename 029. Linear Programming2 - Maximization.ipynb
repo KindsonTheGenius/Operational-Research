{
 "cells": [
  {
   "cell_type": "markdown",
   "metadata": {},
   "source": [
    "#1. Import linear_solver\n",
    "\n",
    "#2. Create the variables x and y\n",
    "\n",
    "#3. Creatthe constraint x + y <= 2\n",
    "\n",
    "#4. Define the Objective function f(x, y) = 3x + y\n",
    "\n",
    "#5. Invoke the Solver and display the results"
   ]
  },
  {
   "cell_type": "code",
   "execution_count": 17,
   "metadata": {},
   "outputs": [],
   "source": [
    "from ortools.linear_solver import pywraplp\n",
    "solver = pywraplp.Solver.CreateSolver('GLOP')"
   ]
  },
  {
   "cell_type": "code",
   "execution_count": 18,
   "metadata": {},
   "outputs": [
    {
     "name": "stdout",
     "output_type": "stream",
     "text": [
      "Number of Variables =  2\n"
     ]
    }
   ],
   "source": [
    "x = solver.NumVar(0, solver.infinity(), 'x')\n",
    "y = solver.NumVar(0, solver.infinity(), 'y')\n",
    "\n",
    "print('Number of Variables = ', solver.NumVariables())"
   ]
  },
  {
   "cell_type": "code",
   "execution_count": 19,
   "metadata": {},
   "outputs": [
    {
     "name": "stdout",
     "output_type": "stream",
     "text": [
      "Number of constraints = 3\n"
     ]
    }
   ],
   "source": [
    "# Constraint 1: x + y <= 4 \n",
    "solver.Add(x + y <= 4)\n",
    "\n",
    "# Constraint 2: 4x + 2y <= 12\n",
    "solver.Add(4*x + 2*y <= 12)\n",
    "\n",
    "# Constraint 3: -x + y <= 1\n",
    "solver.Add(-x + y <= 1)\n",
    "\n",
    "print('Number of constraints =', solver.NumConstraints())"
   ]
  },
  {
   "cell_type": "code",
   "execution_count": 21,
   "metadata": {},
   "outputs": [],
   "source": [
    "solver.Maximize(x + y)"
   ]
  },
  {
   "cell_type": "code",
   "execution_count": 22,
   "metadata": {},
   "outputs": [
    {
     "name": "stdout",
     "output_type": "stream",
     "text": [
      "Solution:\n",
      "Objective value = 0.0\n",
      "x = 0.0\n",
      "y = 0.0\n"
     ]
    }
   ],
   "source": [
    "    print('Solution:')\n",
    "    print('Objective value =', solver.Objective().Value())\n",
    "    print('x =', x.solution_value())\n",
    "    print('y =', y.solution_value())"
   ]
  },
  {
   "cell_type": "code",
   "execution_count": null,
   "metadata": {},
   "outputs": [],
   "source": []
  }
 ],
 "metadata": {
  "kernelspec": {
   "display_name": "Python 3",
   "language": "python",
   "name": "python3"
  },
  "language_info": {
   "codemirror_mode": {
    "name": "ipython",
    "version": 3
   },
   "file_extension": ".py",
   "mimetype": "text/x-python",
   "name": "python",
   "nbconvert_exporter": "python",
   "pygments_lexer": "ipython3",
   "version": "3.7.6"
  }
 },
 "nbformat": 4,
 "nbformat_minor": 4
}
