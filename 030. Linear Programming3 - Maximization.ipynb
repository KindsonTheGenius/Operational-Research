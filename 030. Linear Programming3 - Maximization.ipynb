{
 "cells": [
  {
   "cell_type": "code",
   "execution_count": 20,
   "metadata": {},
   "outputs": [],
   "source": [
    "from ortools.linear_solver import pywraplp\n",
    "solver = pywraplp.Solver.CreateSolver('GLOP')"
   ]
  },
  {
   "cell_type": "code",
   "execution_count": 21,
   "metadata": {},
   "outputs": [
    {
     "name": "stdout",
     "output_type": "stream",
     "text": [
      "Number of variables =  2\n"
     ]
    }
   ],
   "source": [
    "x = solver.NumVar(0, solver.infinity(), 'x')\n",
    "y = solver.NumVar(0, solver.infinity(), 'y')\n",
    "print('Number of variables = ', solver.NumVariables())"
   ]
  },
  {
   "cell_type": "code",
   "execution_count": 22,
   "metadata": {},
   "outputs": [
    {
     "name": "stdout",
     "output_type": "stream",
     "text": [
      "Number of constraints 3\n"
     ]
    }
   ],
   "source": [
    "solver.Add(x + 2*y <= 14)\n",
    "solver.Add(3*x - y >= 0)\n",
    "solver.Add(x - y <= 2)\n",
    "print('Number of constraints', solver.NumConstraints())"
   ]
  },
  {
   "cell_type": "code",
   "execution_count": 23,
   "metadata": {},
   "outputs": [],
   "source": [
    "solver.Maximize(3*x + 4*y)"
   ]
  },
  {
   "cell_type": "code",
   "execution_count": 24,
   "metadata": {},
   "outputs": [],
   "source": [
    "status = solver.Solve()"
   ]
  },
  {
   "cell_type": "code",
   "execution_count": 25,
   "metadata": {},
   "outputs": [
    {
     "name": "stdout",
     "output_type": "stream",
     "text": [
      "Solution:\n",
      "Objective value = 33.99999999999999\n",
      "x =  5.999999999999998\n",
      "y =  3.9999999999999996\n"
     ]
    }
   ],
   "source": [
    "if status == pywraplp.Solver.OPTIMAL:\n",
    "    print('Solution:')\n",
    "    print('Objective value =', solver.Objective().Value())\n",
    "    print('x = ', x.solution_value())\n",
    "    print('y = ', y.solution_value())\n",
    "else:\n",
    "    print('The problem does not have an optimal solution')    "
   ]
  },
  {
   "cell_type": "code",
   "execution_count": 26,
   "metadata": {},
   "outputs": [
    {
     "name": "stdout",
     "output_type": "stream",
     "text": [
      "\\Advanced usage: \n",
      "Problem solved in 4676.000000 milliseconds\n",
      "Problem solved in 2 iterations\n",
      "Problem solved in -1 branch-and-bound nodes\n"
     ]
    }
   ],
   "source": [
    "print('\\Advanced usage: ')\n",
    "print('Problem solved in %f milliseconds' %solver.wall_time())\n",
    "print('Problem solved in %d iterations' %solver.iterations())\n",
    "print('Problem solved in %d branch-and-bound nodes' %solver.nodes())"
   ]
  },
  {
   "cell_type": "code",
   "execution_count": null,
   "metadata": {},
   "outputs": [],
   "source": []
  }
 ],
 "metadata": {
  "kernelspec": {
   "display_name": "Python 3",
   "language": "python",
   "name": "python3"
  },
  "language_info": {
   "codemirror_mode": {
    "name": "ipython",
    "version": 3
   },
   "file_extension": ".py",
   "mimetype": "text/x-python",
   "name": "python",
   "nbconvert_exporter": "python",
   "pygments_lexer": "ipython3",
   "version": "3.7.6"
  }
 },
 "nbformat": 4,
 "nbformat_minor": 4
}
