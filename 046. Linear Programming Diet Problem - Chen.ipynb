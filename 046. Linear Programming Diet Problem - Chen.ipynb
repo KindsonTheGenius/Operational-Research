{
 "cells": [
  {
   "cell_type": "code",
   "execution_count": 18,
   "metadata": {},
   "outputs": [],
   "source": [
    "# import modules\n",
    "from ortools.linear_solver import pywraplp\n",
    "\n",
    "# create solver\n",
    "solver = pywraplp.Solver.CreateSolver('GLOP')"
   ]
  },
  {
   "cell_type": "code",
   "execution_count": 19,
   "metadata": {},
   "outputs": [],
   "source": [
    "# Create your variables\n",
    "a = solver.NumVar(0, solver.infinity(), 'a')\n",
    "b = solver.NumVar(0, solver.infinity(), 'b')\n",
    "c = solver.NumVar(0, solver.infinity(), 'c')\n",
    "d = solver.NumVar(0, solver.infinity(), 'd')\n",
    "e = solver.NumVar(0, solver.infinity(), 'e')"
   ]
  },
  {
   "cell_type": "code",
   "execution_count": 20,
   "metadata": {},
   "outputs": [
    {
     "name": "stdout",
     "output_type": "stream",
     "text": [
      "Constraints = 3\n"
     ]
    }
   ],
   "source": [
    "# Create your constraints\n",
    "solver.Add(0.4*a + 1.2*b + 0.6*c + 0.6*d + 12.2*e >= 70)\n",
    "solver.Add(6*a + 10*b + 3*c + d >= 50)\n",
    "solver.Add(0.4*a + 0.6*b + 0.4*c + 0.2*d + 2.6*e >= 12)\n",
    "print('Constraints =', solver.NumConstraints())"
   ]
  },
  {
   "cell_type": "code",
   "execution_count": 21,
   "metadata": {},
   "outputs": [],
   "source": [
    "# Pass the cost function\n",
    "solver.Minimize(8*a + 10*b + 3*c + 20*d + 15*e)"
   ]
  },
  {
   "cell_type": "code",
   "execution_count": 22,
   "metadata": {},
   "outputs": [
    {
     "data": {
      "text/plain": [
       "0"
      ]
     },
     "execution_count": 22,
     "metadata": {},
     "output_type": "execute_result"
    }
   ],
   "source": []
  },
  {
   "cell_type": "code",
   "execution_count": 23,
   "metadata": {},
   "outputs": [
    {
     "name": "stdout",
     "output_type": "stream",
     "text": [
      "Objective value = 123.7704918032787\n",
      "A =  0.0\n",
      "B =  0.0\n",
      "C =  16.666666666666668\n",
      "D =  0.0\n",
      "E =  4.918032786885247\n"
     ]
    }
   ],
   "source": [
    "#Call the Solver\n",
    "solver.Solve()\n",
    "\n",
    "# print out the values\n",
    "print('Objective value =', solver.Objective().Value())\n",
    "print('A = ', a.solution_value())\n",
    "print('B = ', b.solution_value())\n",
    "print('C = ', c.solution_value())\n",
    "print('D = ', d.solution_value())\n",
    "print('E = ', e.solution_value())"
   ]
  },
  {
   "cell_type": "code",
   "execution_count": null,
   "metadata": {},
   "outputs": [],
   "source": []
  }
 ],
 "metadata": {
  "kernelspec": {
   "display_name": "Python 3",
   "language": "python",
   "name": "python3"
  },
  "language_info": {
   "codemirror_mode": {
    "name": "ipython",
    "version": 3
   },
   "file_extension": ".py",
   "mimetype": "text/x-python",
   "name": "python",
   "nbconvert_exporter": "python",
   "pygments_lexer": "ipython3",
   "version": "3.7.6"
  }
 },
 "nbformat": 4,
 "nbformat_minor": 4
}
