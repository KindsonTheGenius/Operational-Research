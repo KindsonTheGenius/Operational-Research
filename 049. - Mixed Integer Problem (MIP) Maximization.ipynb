{
 "cells": [
  {
   "cell_type": "code",
   "execution_count": 29,
   "metadata": {},
   "outputs": [],
   "source": [
    "# IMPORT THE SOLVER\n",
    "from ortools.linear_solver import pywraplp\n",
    "solver = pywraplp.Solver.CreateSolver('SCIP')"
   ]
  },
  {
   "cell_type": "code",
   "execution_count": 30,
   "metadata": {},
   "outputs": [],
   "source": [
    "coefs = [[5, 7, 9, 2, 1],\n",
    "        [18, 4, -9, 10, 12],\n",
    "        [4, 7, 3, 8, 5],\n",
    "        [5, 13, 15, 3, -7]]\n",
    "maxs = [250,  285, 211, 315] \n",
    "unknowns = ['x1','x2','x3','x4','x5']\n",
    "cost_fn = [7, 8, 2, 9, 6]"
   ]
  },
  {
   "cell_type": "code",
   "execution_count": 31,
   "metadata": {},
   "outputs": [],
   "source": [
    "# DECLARE THE VARIABLES\n",
    "variables = [[]] * len(unknowns)\n",
    "for i in range(0, len(unknowns)):\n",
    "    variables[i] = solver.IntVar(0, solver.infinity(), unknowns[i])"
   ]
  },
  {
   "cell_type": "code",
   "execution_count": 32,
   "metadata": {},
   "outputs": [],
   "source": [
    "# CREATE THE CONSTRAINT 0 <= f(x,y) <= 17.5\n",
    "constraints = [0] * len(coefs)\n",
    "\n",
    "for i in range(0, len(coefs)):\n",
    "    constraints[i] = solver.Constraint(0, maxs[i])\n",
    "    for j in range(0, len(coefs[i])):\n",
    "        constraints[i].SetCoefficient(variables[j], coefs[i][j])"
   ]
  },
  {
   "cell_type": "code",
   "execution_count": 33,
   "metadata": {},
   "outputs": [],
   "source": [
    "# DEFINE THE OBJECTIVE FUNCTION 7x1 + 8x2 + 2x3 + 9x4 + 6x5\n",
    "obj = solver.Objective()\n",
    "for i in range(0, len(cost_fn)):\n",
    "    obj.SetCoefficient(variables[i], cost_fn[i])\n",
    "\n",
    "obj.SetMaximization() # set the problem goal as maximization"
   ]
  },
  {
   "cell_type": "code",
   "execution_count": 34,
   "metadata": {},
   "outputs": [
    {
     "name": "stdout",
     "output_type": "stream",
     "text": [
      "Objective value =  260.0000000000009\n",
      "x1 = 8.000000\n",
      "x2 = 21.000000\n",
      "x3 = 0.000000\n",
      "x4 = 2.000000\n",
      "x5 = 3.000000\n"
     ]
    }
   ],
   "source": [
    "# CALL THE SOLVER AND SHOW THE RESULT\n",
    "status = solver.Solve()\n",
    "print('Objective value = ', obj.Value())\n",
    "\n",
    "# PRINT THE RESULTS\n",
    "for i in range(0, len(unknowns)):\n",
    "    print('%s = %f' %(unknowns[i], variables[i].solution_value()))"
   ]
  },
  {
   "cell_type": "code",
   "execution_count": null,
   "metadata": {},
   "outputs": [],
   "source": []
  }
 ],
 "metadata": {
  "kernelspec": {
   "display_name": "Python 3",
   "language": "python",
   "name": "python3"
  },
  "language_info": {
   "codemirror_mode": {
    "name": "ipython",
    "version": 3
   },
   "file_extension": ".py",
   "mimetype": "text/x-python",
   "name": "python",
   "nbconvert_exporter": "python",
   "pygments_lexer": "ipython3",
   "version": "3.7.6"
  }
 },
 "nbformat": 4,
 "nbformat_minor": 4
}
