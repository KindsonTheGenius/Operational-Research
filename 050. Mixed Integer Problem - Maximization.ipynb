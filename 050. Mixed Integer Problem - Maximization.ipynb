{
 "cells": [
  {
   "cell_type": "code",
   "execution_count": 12,
   "metadata": {},
   "outputs": [],
   "source": [
    "# IMPORT THE SOLVER\n",
    "from ortools.linear_solver import pywraplp\n",
    "solver = pywraplp.Solver.CreateSolver('SCIP')"
   ]
  },
  {
   "cell_type": "code",
   "execution_count": 13,
   "metadata": {},
   "outputs": [],
   "source": [
    "# DECLARE THE VARIABLES\n",
    "x1 = solver.IntVar(0, solver.infinity(), 'x1')\n",
    "x2 = solver.IntVar(0, solver.infinity(), 'x2')\n",
    "x3 = solver.IntVar(0, solver.infinity(), 'x3')\n",
    "x4 = solver.IntVar(0, solver.infinity(), 'x4')"
   ]
  },
  {
   "cell_type": "code",
   "execution_count": 14,
   "metadata": {},
   "outputs": [],
   "source": [
    "# CREATE THE CONSTRAINT 0 <= f(x,y) <= 17.5\n",
    "ct = solver.Constraint(0, 17.5) # specifies upper and lower bound\n",
    "ct.SetCoefficient(x, 1) # specify the x coefficient\n",
    "ct.SetCoefficient(y, 7) # specify the y coefficient"
   ]
  },
  {
   "cell_type": "code",
   "execution_count": 15,
   "metadata": {},
   "outputs": [],
   "source": [
    "# DEFINE THE OBJECTIVE FUNCTION x + 10y\n",
    "obj = solver.Objective()\n",
    "obj.SetCoefficient(x, 1)\n",
    "obj.SetCoefficient(y, 10)\n",
    "obj.SetMaximization() # set the problem goal as maximization"
   ]
  },
  {
   "cell_type": "code",
   "execution_count": 17,
   "metadata": {},
   "outputs": [
    {
     "name": "stdout",
     "output_type": "stream",
     "text": [
      "Objective value =  23.0\n",
      "x =  3.0\n",
      "y =  2.0\n"
     ]
    }
   ],
   "source": [
    "# CALL THE SOLVER AND SHOW THE RESULT\n",
    "solver.Solve()\n",
    "print('Objective value = ', obj.Value())\n",
    "print('x = ', x.solution_value())\n",
    "print('y = ', y.solution_value())"
   ]
  },
  {
   "cell_type": "code",
   "execution_count": null,
   "metadata": {},
   "outputs": [],
   "source": []
  }
 ],
 "metadata": {
  "kernelspec": {
   "display_name": "Python 3",
   "language": "python",
   "name": "python3"
  },
  "language_info": {
   "codemirror_mode": {
    "name": "ipython",
    "version": 3
   },
   "file_extension": ".py",
   "mimetype": "text/x-python",
   "name": "python",
   "nbconvert_exporter": "python",
   "pygments_lexer": "ipython3",
   "version": "3.7.6"
  }
 },
 "nbformat": 4,
 "nbformat_minor": 4
}
